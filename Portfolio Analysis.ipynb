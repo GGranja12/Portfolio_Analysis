{
 "cells": [
  {
   "cell_type": "markdown",
   "metadata": {},
   "source": [
    "<h1 style=\"color: #808000;\">Portfolio Analysis: Python Challenge</h1>\n",
    "\n",
    "---\n",
    "\n",
    "**This challenge** represents a practical tech assignment designed to test your skills in portfolio analysis. Portfolio analysis is a systematic way to evaluate investment portfolios to optimize asset allocation and management. It involves a variety of financial metrics and visualizations to assess the performance and risk of different financial assets.\n",
    "\n",
    "- In this exercise, you will be required to perform a series of calculations and create visualizations to analyze a set of financial assets.\n",
    "- Your task is to develop the necessary code to accomplish each of these tasks effectively.\n",
    "- This challenge is an opportunity to demonstrate your ability to apply Python programming skills in a real-world financial context."
   ]
  },
  {
   "cell_type": "markdown",
   "metadata": {},
   "source": [
    "<h1 style=\"color: #A3A35C;\">Main Libraries</h1>"
   ]
  },
  {
   "cell_type": "code",
   "execution_count": 3,
   "metadata": {},
   "outputs": [],
   "source": [
    "#Cleaning and numerical libraries\n",
    "import pandas as pd\n",
    "import numpy as np\n",
    "\n",
    "#Visualization libraries\n",
    "import matplotlib.pyplot as plt\n",
    "import seaborn as sns"
   ]
  },
  {
   "cell_type": "markdown",
   "metadata": {},
   "source": [
    "<h1 style=\"color: #A3A35C;\">Exercise 1: Data Loading and Price Charting</h1>\n",
    "\n",
    "---\n",
    "\n",
    "You are tasked with loading and analyzing financial data, which is foundational for effective portfolio management. Begin by loading the file named `asset_price_data.csv`, containing essential pricing information for various financial assets.\n",
    "\n",
    "Post data loading, your objective is to visualize this data through a time series graph.The integrity of your analysis depends heavily on your ability to visualize trends accurately while ensuring all asset price series begin at a uniform value."
   ]
  },
  {
   "cell_type": "markdown",
   "metadata": {},
   "source": [
    "<h3 style=\"color: #5B8000;\">Data Loading</h3>"
   ]
  },
  {
   "cell_type": "code",
   "execution_count": 6,
   "metadata": {},
   "outputs": [],
   "source": [
    "df1 = pd.read_csv(r\"C:\\Users\\HP\\Desktop\\Ironhack\\Projects\\Portfolio_Analysis\\asset_price_data.csv\")"
   ]
  },
  {
   "cell_type": "code",
   "execution_count": 7,
   "metadata": {},
   "outputs": [
    {
     "data": {
      "text/html": [
       "<div>\n",
       "<style scoped>\n",
       "    .dataframe tbody tr th:only-of-type {\n",
       "        vertical-align: middle;\n",
       "    }\n",
       "\n",
       "    .dataframe tbody tr th {\n",
       "        vertical-align: top;\n",
       "    }\n",
       "\n",
       "    .dataframe thead th {\n",
       "        text-align: right;\n",
       "    }\n",
       "</style>\n",
       "<table border=\"1\" class=\"dataframe\">\n",
       "  <thead>\n",
       "    <tr style=\"text-align: right;\">\n",
       "      <th></th>\n",
       "      <th>date</th>\n",
       "      <th>Asset1</th>\n",
       "      <th>Asset2</th>\n",
       "      <th>Asset3</th>\n",
       "      <th>Asset4</th>\n",
       "      <th>Asset5</th>\n",
       "    </tr>\n",
       "  </thead>\n",
       "  <tbody>\n",
       "    <tr>\n",
       "      <th>0</th>\n",
       "      <td>2019-01-02</td>\n",
       "      <td>231.5061</td>\n",
       "      <td>55.875</td>\n",
       "      <td>25.649222</td>\n",
       "      <td>302.93</td>\n",
       "      <td>50.89</td>\n",
       "    </tr>\n",
       "    <tr>\n",
       "      <th>1</th>\n",
       "      <td>2019-01-03</td>\n",
       "      <td>231.0356</td>\n",
       "      <td>54.977</td>\n",
       "      <td>25.503047</td>\n",
       "      <td>302.11</td>\n",
       "      <td>50.41</td>\n",
       "    </tr>\n",
       "    <tr>\n",
       "      <th>2</th>\n",
       "      <td>2019-01-04</td>\n",
       "      <td>230.4026</td>\n",
       "      <td>56.129</td>\n",
       "      <td>26.147133</td>\n",
       "      <td>301.77</td>\n",
       "      <td>51.38</td>\n",
       "    </tr>\n",
       "    <tr>\n",
       "      <th>3</th>\n",
       "      <td>2019-01-07</td>\n",
       "      <td>230.0543</td>\n",
       "      <td>56.838</td>\n",
       "      <td>25.955277</td>\n",
       "      <td>302.33</td>\n",
       "      <td>52.14</td>\n",
       "    </tr>\n",
       "    <tr>\n",
       "      <th>4</th>\n",
       "      <td>2019-01-08</td>\n",
       "      <td>229.7012</td>\n",
       "      <td>56.895</td>\n",
       "      <td>26.137997</td>\n",
       "      <td>303.42</td>\n",
       "      <td>52.13</td>\n",
       "    </tr>\n",
       "  </tbody>\n",
       "</table>\n",
       "</div>"
      ],
      "text/plain": [
       "         date    Asset1  Asset2     Asset3  Asset4  Asset5\n",
       "0  2019-01-02  231.5061  55.875  25.649222  302.93   50.89\n",
       "1  2019-01-03  231.0356  54.977  25.503047  302.11   50.41\n",
       "2  2019-01-04  230.4026  56.129  26.147133  301.77   51.38\n",
       "3  2019-01-07  230.0543  56.838  25.955277  302.33   52.14\n",
       "4  2019-01-08  229.7012  56.895  26.137997  303.42   52.13"
      ]
     },
     "execution_count": 7,
     "metadata": {},
     "output_type": "execute_result"
    }
   ],
   "source": [
    "df1.head()"
   ]
  },
  {
   "cell_type": "code",
   "execution_count": 8,
   "metadata": {},
   "outputs": [
    {
     "data": {
      "text/plain": [
       "(783, 6)"
      ]
     },
     "execution_count": 8,
     "metadata": {},
     "output_type": "execute_result"
    }
   ],
   "source": [
    "df1.shape"
   ]
  },
  {
   "cell_type": "code",
   "execution_count": 120,
   "metadata": {},
   "outputs": [],
   "source": [
    "df_prices = df1.copy()"
   ]
  },
  {
   "cell_type": "code",
   "execution_count": 122,
   "metadata": {},
   "outputs": [],
   "source": [
    "#Transforming column date into datetime format so that we can set it as a dateIndex\n",
    "df_prices[\"date\"] = pd.to_datetime(df_prices[\"date\"]) "
   ]
  },
  {
   "cell_type": "code",
   "execution_count": 124,
   "metadata": {},
   "outputs": [],
   "source": [
    "#Setting \"date\" column as the index\n",
    "df_prices.set_index(\"date\", inplace=True)  "
   ]
  },
  {
   "cell_type": "code",
   "execution_count": 126,
   "metadata": {},
   "outputs": [
    {
     "data": {
      "text/html": [
       "<div>\n",
       "<style scoped>\n",
       "    .dataframe tbody tr th:only-of-type {\n",
       "        vertical-align: middle;\n",
       "    }\n",
       "\n",
       "    .dataframe tbody tr th {\n",
       "        vertical-align: top;\n",
       "    }\n",
       "\n",
       "    .dataframe thead th {\n",
       "        text-align: right;\n",
       "    }\n",
       "</style>\n",
       "<table border=\"1\" class=\"dataframe\">\n",
       "  <thead>\n",
       "    <tr style=\"text-align: right;\">\n",
       "      <th></th>\n",
       "      <th>Asset1</th>\n",
       "      <th>Asset2</th>\n",
       "      <th>Asset3</th>\n",
       "      <th>Asset4</th>\n",
       "      <th>Asset5</th>\n",
       "    </tr>\n",
       "    <tr>\n",
       "      <th>date</th>\n",
       "      <th></th>\n",
       "      <th></th>\n",
       "      <th></th>\n",
       "      <th></th>\n",
       "      <th></th>\n",
       "    </tr>\n",
       "  </thead>\n",
       "  <tbody>\n",
       "    <tr>\n",
       "      <th>2019-01-02</th>\n",
       "      <td>231.5061</td>\n",
       "      <td>55.875</td>\n",
       "      <td>25.649222</td>\n",
       "      <td>302.93</td>\n",
       "      <td>50.89</td>\n",
       "    </tr>\n",
       "    <tr>\n",
       "      <th>2019-01-03</th>\n",
       "      <td>231.0356</td>\n",
       "      <td>54.977</td>\n",
       "      <td>25.503047</td>\n",
       "      <td>302.11</td>\n",
       "      <td>50.41</td>\n",
       "    </tr>\n",
       "    <tr>\n",
       "      <th>2019-01-04</th>\n",
       "      <td>230.4026</td>\n",
       "      <td>56.129</td>\n",
       "      <td>26.147133</td>\n",
       "      <td>301.77</td>\n",
       "      <td>51.38</td>\n",
       "    </tr>\n",
       "    <tr>\n",
       "      <th>2019-01-07</th>\n",
       "      <td>230.0543</td>\n",
       "      <td>56.838</td>\n",
       "      <td>25.955277</td>\n",
       "      <td>302.33</td>\n",
       "      <td>52.14</td>\n",
       "    </tr>\n",
       "    <tr>\n",
       "      <th>2019-01-08</th>\n",
       "      <td>229.7012</td>\n",
       "      <td>56.895</td>\n",
       "      <td>26.137997</td>\n",
       "      <td>303.42</td>\n",
       "      <td>52.13</td>\n",
       "    </tr>\n",
       "    <tr>\n",
       "      <th>...</th>\n",
       "      <td>...</td>\n",
       "      <td>...</td>\n",
       "      <td>...</td>\n",
       "      <td>...</td>\n",
       "      <td>...</td>\n",
       "    </tr>\n",
       "    <tr>\n",
       "      <th>2021-12-27</th>\n",
       "      <td>249.9207</td>\n",
       "      <td>103.956</td>\n",
       "      <td>38.820000</td>\n",
       "      <td>NaN</td>\n",
       "      <td>70.11</td>\n",
       "    </tr>\n",
       "    <tr>\n",
       "      <th>2021-12-28</th>\n",
       "      <td>249.9368</td>\n",
       "      <td>104.526</td>\n",
       "      <td>39.115000</td>\n",
       "      <td>NaN</td>\n",
       "      <td>70.03</td>\n",
       "    </tr>\n",
       "    <tr>\n",
       "      <th>2021-12-29</th>\n",
       "      <td>248.7215</td>\n",
       "      <td>104.360</td>\n",
       "      <td>38.855000</td>\n",
       "      <td>342.46</td>\n",
       "      <td>69.81</td>\n",
       "    </tr>\n",
       "    <tr>\n",
       "      <th>2021-12-30</th>\n",
       "      <td>248.5485</td>\n",
       "      <td>104.663</td>\n",
       "      <td>38.985000</td>\n",
       "      <td>342.55</td>\n",
       "      <td>69.91</td>\n",
       "    </tr>\n",
       "    <tr>\n",
       "      <th>2021-12-31</th>\n",
       "      <td>248.7545</td>\n",
       "      <td>104.106</td>\n",
       "      <td>39.005000</td>\n",
       "      <td>342.59</td>\n",
       "      <td>NaN</td>\n",
       "    </tr>\n",
       "  </tbody>\n",
       "</table>\n",
       "<p>783 rows × 5 columns</p>\n",
       "</div>"
      ],
      "text/plain": [
       "              Asset1   Asset2     Asset3  Asset4  Asset5\n",
       "date                                                    \n",
       "2019-01-02  231.5061   55.875  25.649222  302.93   50.89\n",
       "2019-01-03  231.0356   54.977  25.503047  302.11   50.41\n",
       "2019-01-04  230.4026   56.129  26.147133  301.77   51.38\n",
       "2019-01-07  230.0543   56.838  25.955277  302.33   52.14\n",
       "2019-01-08  229.7012   56.895  26.137997  303.42   52.13\n",
       "...              ...      ...        ...     ...     ...\n",
       "2021-12-27  249.9207  103.956  38.820000     NaN   70.11\n",
       "2021-12-28  249.9368  104.526  39.115000     NaN   70.03\n",
       "2021-12-29  248.7215  104.360  38.855000  342.46   69.81\n",
       "2021-12-30  248.5485  104.663  38.985000  342.55   69.91\n",
       "2021-12-31  248.7545  104.106  39.005000  342.59     NaN\n",
       "\n",
       "[783 rows x 5 columns]"
      ]
     },
     "execution_count": 126,
     "metadata": {},
     "output_type": "execute_result"
    }
   ],
   "source": [
    "df_prices"
   ]
  },
  {
   "cell_type": "code",
   "execution_count": 138,
   "metadata": {},
   "outputs": [],
   "source": [
    "#We divide all the values from the dataframe by the first value in each column so that they all have the same starting point:1. This way we can compare their trends properly.\n",
    "df_prices_normalized = df_prices/df_prices.iloc[0]"
   ]
  },
  {
   "cell_type": "code",
   "execution_count": 154,
   "metadata": {},
   "outputs": [
    {
     "data": {
      "image/png": "[encoded data removed]",
      "text/plain": [
       "<Figure size 640x480 with 1 Axes>"
      ]
     },
     "metadata": {},
     "output_type": "display_data"
    }
   ],
   "source": [
    "#Plotting time series graph\n",
    "df_prices_normalized.plot()\n",
    "plt.title('Normalized Asset Price Evolution')\n",
    "plt.xlabel('Date')\n",
    "plt.ylabel('Normalized Price')\n",
    "plt.show()"
   ]
  },
  {
   "cell_type": "markdown",
   "metadata": {},
   "source": [
    "#### Insights:\n",
    "- Given the hard falls of Asset2, Asset3 and Asset5 in the begginnig of the Covid-19 pandemic and its afterwards steep recovery we could infer that they seem to be riskier assets, more prone to volatility.\n",
    "- On the other hand, Asset1 seems to present a solid flat trend, in other words, seems to be stable and close to 0 risk."
   ]
  },
  {
   "cell_type": "markdown",
   "metadata": {},
   "source": [
    "<h1 style=\"color: #A3A35C;\">Exercise 2: Daily Percentage Returns</h1>\n",
    "\n",
    "---\n",
    "\n",
    "You are required to calculate the daily percentage returns for each financial asset. Utilize this data to accomplish the following:\n",
    "- Calculate the correlation matrix for the five assets.\n",
    "- Create a scatter plot comparing the returns of two specific assets."
   ]
  },
  {
   "cell_type": "markdown",
   "metadata": {},
   "source": [
    "<h2 style=\"color: #5B8000;\">Daily Returns Calculation</h2>"
   ]
  },
  {
   "cell_type": "code",
   "execution_count": 11,
   "metadata": {},
   "outputs": [],
   "source": [
    "df1_returns = df1.copy()"
   ]
  },
  {
   "cell_type": "code",
   "execution_count": 12,
   "metadata": {},
   "outputs": [
    {
     "data": {
      "text/plain": [
       "date       0\n",
       "Asset1    13\n",
       "Asset2    13\n",
       "Asset3    13\n",
       "Asset4    49\n",
       "Asset5    20\n",
       "dtype: int64"
      ]
     },
     "execution_count": 12,
     "metadata": {},
     "output_type": "execute_result"
    }
   ],
   "source": [
    "#Checking Nan values\n",
    "df1_returns.isna().sum()"
   ]
  },
  {
   "cell_type": "code",
   "execution_count": 13,
   "metadata": {},
   "outputs": [
    {
     "data": {
      "text/plain": [
       "0"
      ]
     },
     "execution_count": 13,
     "metadata": {},
     "output_type": "execute_result"
    }
   ],
   "source": [
    "#Checking duplicates\n",
    "df1_returns.duplicated().sum()"
   ]
  },
  {
   "cell_type": "code",
   "execution_count": 14,
   "metadata": {},
   "outputs": [
    {
     "name": "stderr",
     "output_type": "stream",
     "text": [
      "C:\\Users\\HP\\AppData\\Local\\Temp\\ipykernel_848\\2157764224.py:2: FutureWarning: DataFrame.fillna with 'method' is deprecated and will raise in a future version. Use obj.ffill() or obj.bfill() instead.\n",
      "  df1_returns = df1_returns.fillna(method='ffill')\n"
     ]
    }
   ],
   "source": [
    "#Filling all NaN values with the the last valid observation in each column.\n",
    "df1_returns = df1_returns.fillna(method='ffill')"
   ]
  },
  {
   "cell_type": "code",
   "execution_count": 15,
   "metadata": {},
   "outputs": [
    {
     "data": {
      "text/plain": [
       "date      0\n",
       "Asset1    0\n",
       "Asset2    0\n",
       "Asset3    0\n",
       "Asset4    0\n",
       "Asset5    0\n",
       "dtype: int64"
      ]
     },
     "execution_count": 15,
     "metadata": {},
     "output_type": "execute_result"
    }
   ],
   "source": [
    "#Checking again Nan existing\n",
    "df1_returns.isna().sum()"
   ]
  },
  {
   "cell_type": "code",
   "execution_count": 16,
   "metadata": {},
   "outputs": [],
   "source": [
    "#The method pct_change(1) provides us a straightfoward solution to get daily returns of the considered assets\n",
    "def daily_percentage_returns(data):\n",
    "    data = data.pct_change(1) * 100\n",
    "    return data"
   ]
  },
  {
   "cell_type": "code",
   "execution_count": 17,
   "metadata": {},
   "outputs": [],
   "source": [
    "#Applying the formula in each asset\n",
    "for x in range(1,6):\n",
    "    df1_returns[f\"Asset{x}\"] = daily_percentage_returns(df1_returns[f\"Asset{x}\"])"
   ]
  },
  {
   "cell_type": "code",
   "execution_count": 18,
   "metadata": {},
   "outputs": [
    {
     "data": {
      "text/html": [
       "<div>\n",
       "<style scoped>\n",
       "    .dataframe tbody tr th:only-of-type {\n",
       "        vertical-align: middle;\n",
       "    }\n",
       "\n",
       "    .dataframe tbody tr th {\n",
       "        vertical-align: top;\n",
       "    }\n",
       "\n",
       "    .dataframe thead th {\n",
       "        text-align: right;\n",
       "    }\n",
       "</style>\n",
       "<table border=\"1\" class=\"dataframe\">\n",
       "  <thead>\n",
       "    <tr style=\"text-align: right;\">\n",
       "      <th></th>\n",
       "      <th>date</th>\n",
       "      <th>Asset1</th>\n",
       "      <th>Asset2</th>\n",
       "      <th>Asset3</th>\n",
       "      <th>Asset4</th>\n",
       "      <th>Asset5</th>\n",
       "    </tr>\n",
       "  </thead>\n",
       "  <tbody>\n",
       "    <tr>\n",
       "      <th>0</th>\n",
       "      <td>2019-01-02</td>\n",
       "      <td>NaN</td>\n",
       "      <td>NaN</td>\n",
       "      <td>NaN</td>\n",
       "      <td>NaN</td>\n",
       "      <td>NaN</td>\n",
       "    </tr>\n",
       "    <tr>\n",
       "      <th>1</th>\n",
       "      <td>2019-01-03</td>\n",
       "      <td>-0.203234</td>\n",
       "      <td>-1.607159</td>\n",
       "      <td>-0.569902</td>\n",
       "      <td>-0.270690</td>\n",
       "      <td>-0.943211</td>\n",
       "    </tr>\n",
       "    <tr>\n",
       "      <th>2</th>\n",
       "      <td>2019-01-04</td>\n",
       "      <td>-0.273984</td>\n",
       "      <td>2.095422</td>\n",
       "      <td>2.525524</td>\n",
       "      <td>-0.112542</td>\n",
       "      <td>1.924221</td>\n",
       "    </tr>\n",
       "    <tr>\n",
       "      <th>3</th>\n",
       "      <td>2019-01-07</td>\n",
       "      <td>-0.151170</td>\n",
       "      <td>1.263162</td>\n",
       "      <td>-0.733753</td>\n",
       "      <td>0.185572</td>\n",
       "      <td>1.479175</td>\n",
       "    </tr>\n",
       "    <tr>\n",
       "      <th>4</th>\n",
       "      <td>2019-01-08</td>\n",
       "      <td>-0.153486</td>\n",
       "      <td>0.100285</td>\n",
       "      <td>0.703977</td>\n",
       "      <td>0.360533</td>\n",
       "      <td>-0.019179</td>\n",
       "    </tr>\n",
       "    <tr>\n",
       "      <th>...</th>\n",
       "      <td>...</td>\n",
       "      <td>...</td>\n",
       "      <td>...</td>\n",
       "      <td>...</td>\n",
       "      <td>...</td>\n",
       "      <td>...</td>\n",
       "    </tr>\n",
       "    <tr>\n",
       "      <th>778</th>\n",
       "      <td>2021-12-27</td>\n",
       "      <td>-0.091306</td>\n",
       "      <td>0.738415</td>\n",
       "      <td>0.543901</td>\n",
       "      <td>0.000000</td>\n",
       "      <td>1.344319</td>\n",
       "    </tr>\n",
       "    <tr>\n",
       "      <th>779</th>\n",
       "      <td>2021-12-28</td>\n",
       "      <td>0.006442</td>\n",
       "      <td>0.548309</td>\n",
       "      <td>0.759918</td>\n",
       "      <td>0.000000</td>\n",
       "      <td>-0.114106</td>\n",
       "    </tr>\n",
       "    <tr>\n",
       "      <th>780</th>\n",
       "      <td>2021-12-29</td>\n",
       "      <td>-0.486243</td>\n",
       "      <td>-0.158812</td>\n",
       "      <td>-0.664707</td>\n",
       "      <td>0.017523</td>\n",
       "      <td>-0.314151</td>\n",
       "    </tr>\n",
       "    <tr>\n",
       "      <th>781</th>\n",
       "      <td>2021-12-30</td>\n",
       "      <td>-0.069556</td>\n",
       "      <td>0.290341</td>\n",
       "      <td>0.334577</td>\n",
       "      <td>0.026280</td>\n",
       "      <td>0.143246</td>\n",
       "    </tr>\n",
       "    <tr>\n",
       "      <th>782</th>\n",
       "      <td>2021-12-31</td>\n",
       "      <td>0.082881</td>\n",
       "      <td>-0.532184</td>\n",
       "      <td>0.051302</td>\n",
       "      <td>0.011677</td>\n",
       "      <td>0.000000</td>\n",
       "    </tr>\n",
       "  </tbody>\n",
       "</table>\n",
       "<p>783 rows × 6 columns</p>\n",
       "</div>"
      ],
      "text/plain": [
       "           date    Asset1    Asset2    Asset3    Asset4    Asset5\n",
       "0    2019-01-02       NaN       NaN       NaN       NaN       NaN\n",
       "1    2019-01-03 -0.203234 -1.607159 -0.569902 -0.270690 -0.943211\n",
       "2    2019-01-04 -0.273984  2.095422  2.525524 -0.112542  1.924221\n",
       "3    2019-01-07 -0.151170  1.263162 -0.733753  0.185572  1.479175\n",
       "4    2019-01-08 -0.153486  0.100285  0.703977  0.360533 -0.019179\n",
       "..          ...       ...       ...       ...       ...       ...\n",
       "778  2021-12-27 -0.091306  0.738415  0.543901  0.000000  1.344319\n",
       "779  2021-12-28  0.006442  0.548309  0.759918  0.000000 -0.114106\n",
       "780  2021-12-29 -0.486243 -0.158812 -0.664707  0.017523 -0.314151\n",
       "781  2021-12-30 -0.069556  0.290341  0.334577  0.026280  0.143246\n",
       "782  2021-12-31  0.082881 -0.532184  0.051302  0.011677  0.000000\n",
       "\n",
       "[783 rows x 6 columns]"
      ]
     },
     "execution_count": 18,
     "metadata": {},
     "output_type": "execute_result"
    }
   ],
   "source": [
    "df1_returns"
   ]
  },
  {
   "cell_type": "code",
   "execution_count": 19,
   "metadata": {},
   "outputs": [],
   "source": [
    "df_new_returns = df1_returns.copy()"
   ]
  },
  {
   "cell_type": "code",
   "execution_count": 20,
   "metadata": {},
   "outputs": [],
   "source": [
    "#Final returns df without any NaN values\n",
    "df_new_returns.dropna(inplace=True)"
   ]
  },
  {
   "cell_type": "markdown",
   "metadata": {},
   "source": [
    "<h2 style=\"color: #5B8000;\">Correlation Matrix Calculation</h2>\n"
   ]
  },
  {
   "cell_type": "code",
   "execution_count": 22,
   "metadata": {},
   "outputs": [],
   "source": [
    "#Creating a df that only contains numerical variables, in other words only asset columns\n",
    "num = df_new_returns.select_dtypes(include=\"number\") "
   ]
  },
  {
   "cell_type": "code",
   "execution_count": 23,
   "metadata": {},
   "outputs": [],
   "source": [
    "correlation_matrix = num.corr()"
   ]
  },
  {
   "cell_type": "code",
   "execution_count": 24,
   "metadata": {},
   "outputs": [
    {
     "data": {
      "image/png": "[encoded data removed]",
      "text/plain": [
       "<Figure size 1000x500 with 2 Axes>"
      ]
     },
     "metadata": {},
     "output_type": "display_data"
    }
   ],
   "source": [
    "# Setting up the matplotlib figure with an appropriate size\n",
    "plt.figure(figsize=(10, 5))\n",
    "\n",
    "# Drawing the heatmap for the numerical columns (assets)\n",
    "sns.heatmap(correlation_matrix, annot=True, cmap=\"coolwarm\")\n",
    "\n",
    "plt.title(\"Correlation Heatmap for Asset Returns\")\n",
    "plt.show()"
   ]
  },
  {
   "cell_type": "markdown",
   "metadata": {},
   "source": [
    "#### Insights: \n",
    "- From the heatmap we can spot a strong positive correlation between Asset2 and Asset3 (+ 0,85) which supports the idea that they present similar risk levels and market trends."
   ]
  },
  {
   "cell_type": "markdown",
   "metadata": {
    "tags": []
   },
   "source": [
    "<h2 style=\"color: #5B8000;\">Scatter Plot between the Returns of Two Assets.</h2>"
   ]
  },
  {
   "cell_type": "code",
   "execution_count": 162,
   "metadata": {},
   "outputs": [
    {
     "data": {
      "image/png": "[encoded data removed]",
      "text/plain": [
       "<Figure size 500x500 with 1 Axes>"
      ]
     },
     "metadata": {},
     "output_type": "display_data"
    }
   ],
   "source": [
    "plt.figure(figsize=(5, 5))\n",
    "plt.title(\"Scatter plot of Asset2 returns vs Asset3 returns\")\n",
    "sns.scatterplot(data=num, x=\"Asset2\", y=\"Asset3\")\n",
    "plt.show()"
   ]
  },
  {
   "cell_type": "markdown",
   "metadata": {},
   "source": [
    "#### Insights: \n",
    "- As spotted before in the correlation matrix, from the scatter plot we can confirm the existence of relevant relationship between Asset2 and the remain Asset3."
   ]
  },
  {
   "cell_type": "markdown",
   "metadata": {},
   "source": [
    "<h1 style=\"color: #A3A35C;\">Exercise 3: Portfolio Analysis</h1>\n",
    "\n",
    "---\n",
    "\n",
    "This third exercise focuses on calculating and analyzing the performance of a portfolio. Begin by loading the file named `portfolio_weights.csv`, which contains the daily weights of each asset in the portfolio."
   ]
  },
  {
   "cell_type": "code",
   "execution_count": 30,
   "metadata": {},
   "outputs": [],
   "source": [
    "df_weights = pd.read_csv(r\"C:\\Users\\HP\\Desktop\\Ironhack\\Projects\\Portfolio_Analysis\\portfolio_weights.csv\")"
   ]
  },
  {
   "cell_type": "code",
   "execution_count": 31,
   "metadata": {},
   "outputs": [
    {
     "data": {
      "text/plain": [
       "(783, 6)"
      ]
     },
     "execution_count": 31,
     "metadata": {},
     "output_type": "execute_result"
    }
   ],
   "source": [
    "df_weights.shape"
   ]
  },
  {
   "cell_type": "code",
   "execution_count": 32,
   "metadata": {},
   "outputs": [
    {
     "data": {
      "text/html": [
       "<div>\n",
       "<style scoped>\n",
       "    .dataframe tbody tr th:only-of-type {\n",
       "        vertical-align: middle;\n",
       "    }\n",
       "\n",
       "    .dataframe tbody tr th {\n",
       "        vertical-align: top;\n",
       "    }\n",
       "\n",
       "    .dataframe thead th {\n",
       "        text-align: right;\n",
       "    }\n",
       "</style>\n",
       "<table border=\"1\" class=\"dataframe\">\n",
       "  <thead>\n",
       "    <tr style=\"text-align: right;\">\n",
       "      <th></th>\n",
       "      <th>date</th>\n",
       "      <th>Asset1</th>\n",
       "      <th>Asset2</th>\n",
       "      <th>Asset3</th>\n",
       "      <th>Asset4</th>\n",
       "      <th>Asset5</th>\n",
       "    </tr>\n",
       "  </thead>\n",
       "  <tbody>\n",
       "    <tr>\n",
       "      <th>0</th>\n",
       "      <td>2019-01-02</td>\n",
       "      <td>0.225458</td>\n",
       "      <td>0.116255</td>\n",
       "      <td>0.265003</td>\n",
       "      <td>0.23031</td>\n",
       "      <td>0.162974</td>\n",
       "    </tr>\n",
       "    <tr>\n",
       "      <th>1</th>\n",
       "      <td>2019-01-03</td>\n",
       "      <td>0.225458</td>\n",
       "      <td>0.116255</td>\n",
       "      <td>0.265003</td>\n",
       "      <td>0.23031</td>\n",
       "      <td>0.162974</td>\n",
       "    </tr>\n",
       "    <tr>\n",
       "      <th>2</th>\n",
       "      <td>2019-01-04</td>\n",
       "      <td>0.225458</td>\n",
       "      <td>0.116255</td>\n",
       "      <td>0.265003</td>\n",
       "      <td>0.23031</td>\n",
       "      <td>0.162974</td>\n",
       "    </tr>\n",
       "    <tr>\n",
       "      <th>3</th>\n",
       "      <td>2019-01-07</td>\n",
       "      <td>0.225458</td>\n",
       "      <td>0.116255</td>\n",
       "      <td>0.265003</td>\n",
       "      <td>0.23031</td>\n",
       "      <td>0.162974</td>\n",
       "    </tr>\n",
       "    <tr>\n",
       "      <th>4</th>\n",
       "      <td>2019-01-08</td>\n",
       "      <td>0.225458</td>\n",
       "      <td>0.116255</td>\n",
       "      <td>0.265003</td>\n",
       "      <td>0.23031</td>\n",
       "      <td>0.162974</td>\n",
       "    </tr>\n",
       "  </tbody>\n",
       "</table>\n",
       "</div>"
      ],
      "text/plain": [
       "         date    Asset1    Asset2    Asset3   Asset4    Asset5\n",
       "0  2019-01-02  0.225458  0.116255  0.265003  0.23031  0.162974\n",
       "1  2019-01-03  0.225458  0.116255  0.265003  0.23031  0.162974\n",
       "2  2019-01-04  0.225458  0.116255  0.265003  0.23031  0.162974\n",
       "3  2019-01-07  0.225458  0.116255  0.265003  0.23031  0.162974\n",
       "4  2019-01-08  0.225458  0.116255  0.265003  0.23031  0.162974"
      ]
     },
     "execution_count": 32,
     "metadata": {},
     "output_type": "execute_result"
    }
   ],
   "source": [
    "df_weights.head()"
   ]
  },
  {
   "cell_type": "code",
   "execution_count": 33,
   "metadata": {},
   "outputs": [],
   "source": [
    "df_weights_new = df_weights.copy()"
   ]
  },
  {
   "cell_type": "code",
   "execution_count": 34,
   "metadata": {},
   "outputs": [],
   "source": [
    "#Transforming column date into datetime format so that we can set it as a dateIndex\n",
    "df_weights_new[\"date\"] = pd.to_datetime(df_weights_new[\"date\"]) "
   ]
  },
  {
   "cell_type": "code",
   "execution_count": 35,
   "metadata": {},
   "outputs": [],
   "source": [
    "#Setting \"date\" column as the index\n",
    "df_weights_new.set_index(\"date\", inplace=True)  "
   ]
  },
  {
   "cell_type": "code",
   "execution_count": 36,
   "metadata": {},
   "outputs": [
    {
     "data": {
      "text/html": [
       "<div>\n",
       "<style scoped>\n",
       "    .dataframe tbody tr th:only-of-type {\n",
       "        vertical-align: middle;\n",
       "    }\n",
       "\n",
       "    .dataframe tbody tr th {\n",
       "        vertical-align: top;\n",
       "    }\n",
       "\n",
       "    .dataframe thead th {\n",
       "        text-align: right;\n",
       "    }\n",
       "</style>\n",
       "<table border=\"1\" class=\"dataframe\">\n",
       "  <thead>\n",
       "    <tr style=\"text-align: right;\">\n",
       "      <th></th>\n",
       "      <th>Asset1</th>\n",
       "      <th>Asset2</th>\n",
       "      <th>Asset3</th>\n",
       "      <th>Asset4</th>\n",
       "      <th>Asset5</th>\n",
       "    </tr>\n",
       "    <tr>\n",
       "      <th>date</th>\n",
       "      <th></th>\n",
       "      <th></th>\n",
       "      <th></th>\n",
       "      <th></th>\n",
       "      <th></th>\n",
       "    </tr>\n",
       "  </thead>\n",
       "  <tbody>\n",
       "    <tr>\n",
       "      <th>2019-01-02</th>\n",
       "      <td>0.225458</td>\n",
       "      <td>0.116255</td>\n",
       "      <td>0.265003</td>\n",
       "      <td>0.23031</td>\n",
       "      <td>0.162974</td>\n",
       "    </tr>\n",
       "    <tr>\n",
       "      <th>2019-01-03</th>\n",
       "      <td>0.225458</td>\n",
       "      <td>0.116255</td>\n",
       "      <td>0.265003</td>\n",
       "      <td>0.23031</td>\n",
       "      <td>0.162974</td>\n",
       "    </tr>\n",
       "    <tr>\n",
       "      <th>2019-01-04</th>\n",
       "      <td>0.225458</td>\n",
       "      <td>0.116255</td>\n",
       "      <td>0.265003</td>\n",
       "      <td>0.23031</td>\n",
       "      <td>0.162974</td>\n",
       "    </tr>\n",
       "    <tr>\n",
       "      <th>2019-01-07</th>\n",
       "      <td>0.225458</td>\n",
       "      <td>0.116255</td>\n",
       "      <td>0.265003</td>\n",
       "      <td>0.23031</td>\n",
       "      <td>0.162974</td>\n",
       "    </tr>\n",
       "    <tr>\n",
       "      <th>2019-01-08</th>\n",
       "      <td>0.225458</td>\n",
       "      <td>0.116255</td>\n",
       "      <td>0.265003</td>\n",
       "      <td>0.23031</td>\n",
       "      <td>0.162974</td>\n",
       "    </tr>\n",
       "  </tbody>\n",
       "</table>\n",
       "</div>"
      ],
      "text/plain": [
       "              Asset1    Asset2    Asset3   Asset4    Asset5\n",
       "date                                                       \n",
       "2019-01-02  0.225458  0.116255  0.265003  0.23031  0.162974\n",
       "2019-01-03  0.225458  0.116255  0.265003  0.23031  0.162974\n",
       "2019-01-04  0.225458  0.116255  0.265003  0.23031  0.162974\n",
       "2019-01-07  0.225458  0.116255  0.265003  0.23031  0.162974\n",
       "2019-01-08  0.225458  0.116255  0.265003  0.23031  0.162974"
      ]
     },
     "execution_count": 36,
     "metadata": {},
     "output_type": "execute_result"
    }
   ],
   "source": [
    "df_weights_new.head()"
   ]
  },
  {
   "cell_type": "markdown",
   "metadata": {
    "tags": []
   },
   "source": [
    "<h2 style=\"color: #5B8000;\">Area Chart of Asset Weights</h2>\n",
    "\n",
    "- Create an area chart of the asset weights."
   ]
  },
  {
   "cell_type": "code",
   "execution_count": 38,
   "metadata": {},
   "outputs": [
    {
     "name": "stderr",
     "output_type": "stream",
     "text": [
      "C:\\Users\\HP\\AppData\\Local\\Temp\\ipykernel_848\\2643025725.py:3: FutureWarning: 'Q' is deprecated and will be removed in a future version, please use 'QE' instead.\n",
      "  df_weights_quarter = df_weights_new.resample('Q').mean()\n"
     ]
    }
   ],
   "source": [
    "#Transforming daily weight records into quarterly weight records using quarter means \n",
    "#This will be helpful better vizualize the area chart\n",
    "df_weights_quarter = df_weights_new.resample('Q').mean()"
   ]
  },
  {
   "cell_type": "code",
   "execution_count": 39,
   "metadata": {},
   "outputs": [
    {
     "data": {
      "text/plain": [
       "<function matplotlib.pyplot.show(close=None, block=None)>"
      ]
     },
     "execution_count": 39,
     "metadata": {},
     "output_type": "execute_result"
    },
    {
     "data": {
      "text/plain": [
       "<Figure size 1200x600 with 0 Axes>"
      ]
     },
     "metadata": {},
     "output_type": "display_data"
    },
    {
     "data": {
      "image/png": "[encoded data removed]",
      "text/plain": [
       "<Figure size 640x480 with 1 Axes>"
      ]
     },
     "metadata": {},
     "output_type": "display_data"
    }
   ],
   "source": [
    "# Plotting the area chart\n",
    "plt.figure(figsize=(12, 6))\n",
    "df_weights_quarter.plot.area(stacked=True, alpha=0.8, cmap='Set3') \n",
    "plt.xlabel('Date')\n",
    "plt.ylabel('Asset Allocation')\n",
    "plt.title('Quarterly Asset Allocation Over Time')\n",
    "plt.show"
   ]
  },
  {
   "cell_type": "markdown",
   "metadata": {},
   "source": [
    "#### Insights: \n",
    "- From the area chart we can spot that Asset1, during 2020 pandemic difficluties, became the most significant asset within the analysed portfolio. Once again this financial choice could be related to its lower risk and more stable characteristics. Investors are prone to lower risk and more liquid assets when facing economic difficulties."
   ]
  },
  {
   "cell_type": "markdown",
   "metadata": {
    "tags": []
   },
   "source": [
    "<h2 style=\"color: #5B8000;\">Chart of Historical Cumulative Returns of the Portfolio</h2>\n",
    "\n",
    "- Plot the historical cumulative returns of the portfolio."
   ]
  },
  {
   "cell_type": "code",
   "execution_count": 41,
   "metadata": {},
   "outputs": [],
   "source": [
    "## Adapted from https://www.codingfinance.com/post/2018-04-10-cumulative-portfolio-returns-py/"
   ]
  },
  {
   "cell_type": "code",
   "execution_count": 42,
   "metadata": {},
   "outputs": [],
   "source": [
    "#Creating a copy from the final percentage daily returns dataframe from Exercise 2.\n",
    "df_returns_new = df_new_returns.copy() "
   ]
  },
  {
   "cell_type": "code",
   "execution_count": 43,
   "metadata": {},
   "outputs": [],
   "source": [
    "#Setting date column as datetimeIndex so that it is comparable to df_weights_new\n",
    "df_returns_new[\"date\"] = pd.to_datetime(df_returns_new[\"date\"])\n",
    "df_returns_new.set_index(\"date\", inplace=True)"
   ]
  },
  {
   "cell_type": "code",
   "execution_count": 44,
   "metadata": {},
   "outputs": [],
   "source": [
    " #Retrieving decimal values instead of percentage daily returns so that we can do further calculations\n",
    "df_returns_new = df_returns_new/100"
   ]
  },
  {
   "cell_type": "code",
   "execution_count": 45,
   "metadata": {},
   "outputs": [],
   "source": [
    "# Creating a new df with daily returns times daily weights\n",
    "df_returns_weight = df_returns_new * df_weights_new.iloc[1:]"
   ]
  },
  {
   "cell_type": "code",
   "execution_count": 46,
   "metadata": {},
   "outputs": [],
   "source": [
    "#Adding the rows to get the portfolio return for each day\n",
    "port_ret = df_returns_weight.sum(axis=1) "
   ]
  },
  {
   "cell_type": "code",
   "execution_count": 47,
   "metadata": {},
   "outputs": [],
   "source": [
    "#Calculating cumulative returns over time \n",
    "cumulative_ret = (1 + port_ret ).cumprod() - 1 "
   ]
  },
  {
   "cell_type": "code",
   "execution_count": 48,
   "metadata": {},
   "outputs": [],
   "source": [
    "#Retrieving cumulative returns in percentage\n",
    "cumulative_ret_percentage = cumulative_ret * 100 "
   ]
  },
  {
   "cell_type": "code",
   "execution_count": 49,
   "metadata": {},
   "outputs": [
    {
     "data": {
      "text/plain": [
       "<function matplotlib.pyplot.show(close=None, block=None)>"
      ]
     },
     "execution_count": 49,
     "metadata": {},
     "output_type": "execute_result"
    },
    {
     "data": {
      "image/png": "[encoded data removed]",
      "text/plain": [
       "<Figure size 640x480 with 1 Axes>"
      ]
     },
     "metadata": {},
     "output_type": "display_data"
    }
   ],
   "source": [
    "plt.plot(cumulative_ret_percentage)\n",
    "plt.xticks(rotation=45)\n",
    "plt.tight_layout()\n",
    "plt.xlabel('Date')\n",
    "plt.ylabel('Cumulative Returns in %')\n",
    "plt.title('Cumulative Returns in % Over Time')\n",
    "plt.show"
   ]
  },
  {
   "cell_type": "markdown",
   "metadata": {},
   "source": [
    "#### Insights: \n",
    "- From the timeseries we can spot a significant fall after the begginning of the Covid-19 pandemic in March 2020. Afterwards, with the economic recovery, markets and businesses faced a positive improvement, which made this specific portfolio achieve almost 40% of cumulative return from january 2019 until the end of 2021."
   ]
  },
  {
   "cell_type": "markdown",
   "metadata": {
    "tags": []
   },
   "source": [
    "<h2 style=\"color: #5B8000;\">Annualized Return</h2>\n",
    "\n",
    "- Calculate the annualized return of the portfolio."
   ]
  },
  {
   "cell_type": "code",
   "execution_count": 51,
   "metadata": {},
   "outputs": [],
   "source": [
    "#Adapted from https://plainenglish.io/blog/calculating-annualized-expected-stock-returns-using-python-aaba430ca8a9"
   ]
  },
  {
   "cell_type": "code",
   "execution_count": 52,
   "metadata": {},
   "outputs": [],
   "source": [
    "#Total cumulative return (last row value)\n",
    "cumulative_ret_total = cumulative_ret.iloc[-1] "
   ]
  },
  {
   "cell_type": "code",
   "execution_count": 53,
   "metadata": {},
   "outputs": [],
   "source": [
    "#Number of years considered in the data \n",
    "num_years = 3"
   ]
  },
  {
   "cell_type": "code",
   "execution_count": 54,
   "metadata": {},
   "outputs": [
    {
     "name": "stdout",
     "output_type": "stream",
     "text": [
      "Annualized Return: 11.49%\n"
     ]
    }
   ],
   "source": [
    "#Annualized return formula\n",
    "annualized_return = (1 + cumulative_ret_total) ** (1 / num_years) - 1 \n",
    "annualized_return = annualized_return * 100\n",
    "print(f\"Annualized Return: {annualized_return:.2f}%\")"
   ]
  },
  {
   "cell_type": "markdown",
   "metadata": {
    "tags": []
   },
   "source": [
    "<h2 style=\"color: #5B8000;\">Annualized Volatility</h2>\n",
    "\n",
    "- Determine the annualized volatility of the portfolio (using an annualization factor of 261 days)."
   ]
  },
  {
   "cell_type": "code",
   "execution_count": 56,
   "metadata": {},
   "outputs": [],
   "source": [
    "#Daily volatility calculation to use afterwards\n",
    "daily_volatility = port_ret.std()"
   ]
  },
  {
   "cell_type": "code",
   "execution_count": 57,
   "metadata": {},
   "outputs": [
    {
     "name": "stdout",
     "output_type": "stream",
     "text": [
      "Annualized Volatility: 8.51%\n"
     ]
    }
   ],
   "source": [
    "#Annualized volatility formula\n",
    "annualized_volatility = daily_volatility * np.sqrt(261)\n",
    "annualized_volatility = annualized_volatility * 100\n",
    "print(f\"Annualized Volatility: {annualized_volatility:.2f}%\")"
   ]
  },
  {
   "cell_type": "markdown",
   "metadata": {
    "tags": []
   },
   "source": [
    "<h2 style=\"color: #5B8000;\">Area Chart of Asset Weights Grouped by Family</h2>\n",
    "\n",
    "- Produce an area chart grouping asset weights by their categories, as detailed in the `asset_information_data.csv`."
   ]
  },
  {
   "cell_type": "code",
   "execution_count": 59,
   "metadata": {},
   "outputs": [],
   "source": [
    "df_categories = pd.read_csv(r\"C:\\Users\\HP\\Desktop\\Ironhack\\Projects\\Portfolio_Analysis\\asset_information_data.csv\")"
   ]
  },
  {
   "cell_type": "code",
   "execution_count": 60,
   "metadata": {},
   "outputs": [
    {
     "data": {
      "text/plain": [
       "(5, 2)"
      ]
     },
     "execution_count": 60,
     "metadata": {},
     "output_type": "execute_result"
    }
   ],
   "source": [
    "df_categories.shape"
   ]
  },
  {
   "cell_type": "code",
   "execution_count": 61,
   "metadata": {},
   "outputs": [
    {
     "data": {
      "text/html": [
       "<div>\n",
       "<style scoped>\n",
       "    .dataframe tbody tr th:only-of-type {\n",
       "        vertical-align: middle;\n",
       "    }\n",
       "\n",
       "    .dataframe tbody tr th {\n",
       "        vertical-align: top;\n",
       "    }\n",
       "\n",
       "    .dataframe thead th {\n",
       "        text-align: right;\n",
       "    }\n",
       "</style>\n",
       "<table border=\"1\" class=\"dataframe\">\n",
       "  <thead>\n",
       "    <tr style=\"text-align: right;\">\n",
       "      <th></th>\n",
       "      <th>Name</th>\n",
       "      <th>Family</th>\n",
       "    </tr>\n",
       "  </thead>\n",
       "  <tbody>\n",
       "    <tr>\n",
       "      <th>0</th>\n",
       "      <td>Asset1</td>\n",
       "      <td>Fixed Income</td>\n",
       "    </tr>\n",
       "    <tr>\n",
       "      <th>1</th>\n",
       "      <td>Asset2</td>\n",
       "      <td>Fixed Income</td>\n",
       "    </tr>\n",
       "    <tr>\n",
       "      <th>2</th>\n",
       "      <td>Asset3</td>\n",
       "      <td>Equity</td>\n",
       "    </tr>\n",
       "    <tr>\n",
       "      <th>3</th>\n",
       "      <td>Asset4</td>\n",
       "      <td>Equity</td>\n",
       "    </tr>\n",
       "    <tr>\n",
       "      <th>4</th>\n",
       "      <td>Asset5</td>\n",
       "      <td>Alternative</td>\n",
       "    </tr>\n",
       "  </tbody>\n",
       "</table>\n",
       "</div>"
      ],
      "text/plain": [
       "     Name        Family\n",
       "0  Asset1  Fixed Income\n",
       "1  Asset2  Fixed Income\n",
       "2  Asset3        Equity\n",
       "3  Asset4        Equity\n",
       "4  Asset5   Alternative"
      ]
     },
     "execution_count": 61,
     "metadata": {},
     "output_type": "execute_result"
    }
   ],
   "source": [
    "df_categories.head()"
   ]
  },
  {
   "cell_type": "code",
   "execution_count": 62,
   "metadata": {},
   "outputs": [],
   "source": [
    "#Creating a copy from the final daily asset weights df\n",
    "df_weights_categories = df_weights_new.copy()"
   ]
  },
  {
   "cell_type": "code",
   "execution_count": 63,
   "metadata": {},
   "outputs": [],
   "source": [
    "#Creating 3 new category columns by grouping assets into each one\n",
    "df_weights_categories[\"Fixed Income\"] = df_weights_categories[\"Asset1\"] + df_weights_categories[\"Asset2\"]\n",
    "df_weights_categories[\"Equity\"] = df_weights_categories[\"Asset3\"] + df_weights_categories[\"Asset4\"]\n",
    "df_weights_categories[\"Alternative\"] = df_weights_categories[\"Asset5\"]"
   ]
  },
  {
   "cell_type": "code",
   "execution_count": 64,
   "metadata": {},
   "outputs": [],
   "source": [
    "#Dropping asset columns not needed\n",
    "df_weights_categories = df_weights_categories.drop(columns = {\"Asset1\", \"Asset2\", \"Asset3\", \"Asset4\", \"Asset5\"})"
   ]
  },
  {
   "cell_type": "code",
   "execution_count": 65,
   "metadata": {},
   "outputs": [
    {
     "data": {
      "text/html": [
       "<div>\n",
       "<style scoped>\n",
       "    .dataframe tbody tr th:only-of-type {\n",
       "        vertical-align: middle;\n",
       "    }\n",
       "\n",
       "    .dataframe tbody tr th {\n",
       "        vertical-align: top;\n",
       "    }\n",
       "\n",
       "    .dataframe thead th {\n",
       "        text-align: right;\n",
       "    }\n",
       "</style>\n",
       "<table border=\"1\" class=\"dataframe\">\n",
       "  <thead>\n",
       "    <tr style=\"text-align: right;\">\n",
       "      <th></th>\n",
       "      <th>Fixed Income</th>\n",
       "      <th>Equity</th>\n",
       "      <th>Alternative</th>\n",
       "    </tr>\n",
       "    <tr>\n",
       "      <th>date</th>\n",
       "      <th></th>\n",
       "      <th></th>\n",
       "      <th></th>\n",
       "    </tr>\n",
       "  </thead>\n",
       "  <tbody>\n",
       "    <tr>\n",
       "      <th>2019-01-02</th>\n",
       "      <td>0.341713</td>\n",
       "      <td>0.495313</td>\n",
       "      <td>0.162974</td>\n",
       "    </tr>\n",
       "    <tr>\n",
       "      <th>2019-01-03</th>\n",
       "      <td>0.341713</td>\n",
       "      <td>0.495313</td>\n",
       "      <td>0.162974</td>\n",
       "    </tr>\n",
       "    <tr>\n",
       "      <th>2019-01-04</th>\n",
       "      <td>0.341713</td>\n",
       "      <td>0.495313</td>\n",
       "      <td>0.162974</td>\n",
       "    </tr>\n",
       "    <tr>\n",
       "      <th>2019-01-07</th>\n",
       "      <td>0.341713</td>\n",
       "      <td>0.495313</td>\n",
       "      <td>0.162974</td>\n",
       "    </tr>\n",
       "    <tr>\n",
       "      <th>2019-01-08</th>\n",
       "      <td>0.341713</td>\n",
       "      <td>0.495313</td>\n",
       "      <td>0.162974</td>\n",
       "    </tr>\n",
       "    <tr>\n",
       "      <th>...</th>\n",
       "      <td>...</td>\n",
       "      <td>...</td>\n",
       "      <td>...</td>\n",
       "    </tr>\n",
       "    <tr>\n",
       "      <th>2021-12-27</th>\n",
       "      <td>0.337400</td>\n",
       "      <td>0.504245</td>\n",
       "      <td>0.158356</td>\n",
       "    </tr>\n",
       "    <tr>\n",
       "      <th>2021-12-28</th>\n",
       "      <td>0.337400</td>\n",
       "      <td>0.504245</td>\n",
       "      <td>0.158356</td>\n",
       "    </tr>\n",
       "    <tr>\n",
       "      <th>2021-12-29</th>\n",
       "      <td>0.337400</td>\n",
       "      <td>0.504245</td>\n",
       "      <td>0.158356</td>\n",
       "    </tr>\n",
       "    <tr>\n",
       "      <th>2021-12-30</th>\n",
       "      <td>0.337400</td>\n",
       "      <td>0.504245</td>\n",
       "      <td>0.158356</td>\n",
       "    </tr>\n",
       "    <tr>\n",
       "      <th>2021-12-31</th>\n",
       "      <td>0.337400</td>\n",
       "      <td>0.504245</td>\n",
       "      <td>0.158356</td>\n",
       "    </tr>\n",
       "  </tbody>\n",
       "</table>\n",
       "<p>783 rows × 3 columns</p>\n",
       "</div>"
      ],
      "text/plain": [
       "            Fixed Income    Equity  Alternative\n",
       "date                                           \n",
       "2019-01-02      0.341713  0.495313     0.162974\n",
       "2019-01-03      0.341713  0.495313     0.162974\n",
       "2019-01-04      0.341713  0.495313     0.162974\n",
       "2019-01-07      0.341713  0.495313     0.162974\n",
       "2019-01-08      0.341713  0.495313     0.162974\n",
       "...                  ...       ...          ...\n",
       "2021-12-27      0.337400  0.504245     0.158356\n",
       "2021-12-28      0.337400  0.504245     0.158356\n",
       "2021-12-29      0.337400  0.504245     0.158356\n",
       "2021-12-30      0.337400  0.504245     0.158356\n",
       "2021-12-31      0.337400  0.504245     0.158356\n",
       "\n",
       "[783 rows x 3 columns]"
      ]
     },
     "execution_count": 65,
     "metadata": {},
     "output_type": "execute_result"
    }
   ],
   "source": [
    "df_weights_categories"
   ]
  },
  {
   "cell_type": "code",
   "execution_count": 66,
   "metadata": {},
   "outputs": [
    {
     "name": "stderr",
     "output_type": "stream",
     "text": [
      "C:\\Users\\HP\\AppData\\Local\\Temp\\ipykernel_848\\3094697530.py:3: FutureWarning: 'Q' is deprecated and will be removed in a future version, please use 'QE' instead.\n",
      "  df_weights_categories_quarter = df_weights_categories.resample('Q').mean()\n"
     ]
    }
   ],
   "source": [
    "#Again, transforming daily weight records into quarterly weight records using quarter means\n",
    "#This will be helpful better vizualize the area chart\n",
    "df_weights_categories_quarter = df_weights_categories.resample('Q').mean()"
   ]
  },
  {
   "cell_type": "code",
   "execution_count": 67,
   "metadata": {},
   "outputs": [
    {
     "data": {
      "text/plain": [
       "<function matplotlib.pyplot.show(close=None, block=None)>"
      ]
     },
     "execution_count": 67,
     "metadata": {},
     "output_type": "execute_result"
    },
    {
     "data": {
      "text/plain": [
       "<Figure size 1200x600 with 0 Axes>"
      ]
     },
     "metadata": {},
     "output_type": "display_data"
    },
    {
     "data": {
      "image/png": "[encoded data removed]",
      "text/plain": [
       "<Figure size 640x480 with 1 Axes>"
      ]
     },
     "metadata": {},
     "output_type": "display_data"
    }
   ],
   "source": [
    "# Plotting the area chart\n",
    "plt.figure(figsize=(12, 6))\n",
    "df_weights_categories_quarter.plot.area(stacked=True, alpha=0.8, cmap='Set3') \n",
    "plt.xlabel('Date')\n",
    "plt.ylabel('Asset Category Allocation')\n",
    "plt.title('Quarterly Asset Category Allocation Over Time')\n",
    "plt.show"
   ]
  },
  {
   "cell_type": "markdown",
   "metadata": {},
   "source": [
    "#### Insights: \n",
    "- As spotted before, it is confirmed that fixed income assets, which in general are characterized by lower risk assets, as bonds for example, had a significant weight within the analysed portfolio during the first months of the Covid-19 pandemic (2020), where investors are prone to have more liquid assets."
   ]
  },
  {
   "cell_type": "code",
   "execution_count": null,
   "metadata": {},
   "outputs": [],
   "source": []
  }
 ],
 "metadata": {
  "colab": {
   "provenance": [
    {
     "file_id": "1fHXMQvsfUK6jFCwgFlCA_WDoSXI7rzN4",
     "timestamp": 1698662695337
    },
    {
     "file_id": "1OX3IZEGgfyEzu1luFVYojAIp89lVkPmw",
     "timestamp": 1691153287206
    }
   ]
  },
  "kernelspec": {
   "display_name": "Python 3 (ipykernel)",
   "language": "python",
   "name": "python3"
  },
  "language_info": {
   "codemirror_mode": {
    "name": "ipython",
    "version": 3
   },
   "file_extension": ".py",
   "mimetype": "text/x-python",
   "name": "python",
   "nbconvert_exporter": "python",
   "pygments_lexer": "ipython3",
   "version": "3.12.4"
  }
 },
 "nbformat": 4,
 "nbformat_minor": 4
}
